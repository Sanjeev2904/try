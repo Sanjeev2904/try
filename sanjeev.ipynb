{
 "cells": [
  {
   "cell_type": "code",
   "execution_count": 2,
   "id": "f0b15dac",
   "metadata": {},
   "outputs": [
    {
     "name": "stdout",
     "output_type": "stream",
     "text": [
      "Enter english marks: 90\n",
      "Enter maths marks: 40\n",
      "Enter science marks: 88\n",
      "Grade: C\n"
     ]
    }
   ],
   "source": [
    "eng=int(input(\"Enter english marks: \"))\n",
    "math=int(input(\"Enter maths marks: \"))\n",
    "sci=int(input(\"Enter science marks: \"))\n",
    "total=eng+math+sci\n",
    "avg=total/3\n",
    "if avg>=90:\n",
    "  print(\"Grade: A\")\n",
    "elif avg>=80:\n",
    "  print(\"Grade: B\")\n",
    "elif avg>=70:\n",
    "  print(\"Grade: C\")\n",
    "else:\n",
    "  print(\"Grade: Fail\")"
   ]
  },
  {
   "cell_type": "code",
   "execution_count": null,
   "id": "527d1d1e",
   "metadata": {},
   "outputs": [],
   "source": []
  }
 ],
 "metadata": {
  "kernelspec": {
   "display_name": "Python 3 (ipykernel)",
   "language": "python",
   "name": "python3"
  },
  "language_info": {
   "codemirror_mode": {
    "name": "ipython",
    "version": 3
   },
   "file_extension": ".py",
   "mimetype": "text/x-python",
   "name": "python",
   "nbconvert_exporter": "python",
   "pygments_lexer": "ipython3",
   "version": "3.11.5"
  }
 },
 "nbformat": 4,
 "nbformat_minor": 5
}
